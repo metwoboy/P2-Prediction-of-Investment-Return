{
 "cells": [
  {
   "cell_type": "code",
   "execution_count": 1,
   "metadata": {},
   "outputs": [],
   "source": [
    "# Dependencies and Setup\n",
    "import pandas as pd\n",
    "import requests\n",
    "import time\n",
    "import warnings\n",
    "import logging\n",
    "import sqlalchemy\n",
    "from sqlalchemy import create_engine, MetaData\n",
    "warnings.filterwarnings('ignore')\n",
    "from pprint import pprint\n",
    "from config import *\n",
    "\n",
    "logger = logging.Logger('catch_all')\n",
    "\n",
    "# Stock data url connection requirements\n",
    "url = \"https://www.alphavantage.co/query?\"\n",
    "function = \"function=TIME_SERIES_DAILY\"\n",
    "output=\"&outputsize=full\"\n",
    "key = f\"&apikey={stock_api_key}\"\n",
    "\n",
    "# PostgreSQL connection and creating session\n",
    "connect_str = 'postgresql://postgres:'+db_pass+'@'+db_host+':'+db_port+'/'+db_name\n",
    "engine = create_engine(connect_str)\n",
    "connection = engine.connect()"
   ]
  },
  {
   "cell_type": "code",
   "execution_count": null,
   "metadata": {},
   "outputs": [],
   "source": [
    "surl = \"https://en.wikipedia.org/wiki/List_of_S%26P_500_companies\""
   ]
  },
  {
   "cell_type": "code",
   "execution_count": null,
   "metadata": {},
   "outputs": [],
   "source": [
    "tables = pd.read_html(surl)\n",
    "# tables"
   ]
  },
  {
   "cell_type": "code",
   "execution_count": null,
   "metadata": {},
   "outputs": [],
   "source": [
    "df = tables[0]\n",
    "df.columns= ['symbol', 'security', 'SEC_filings', 'gics_sector', 'gics_sub_industry','headquarters_location', 'date_first_added', 'cik', 'founded']\n",
    "del df['SEC_filings']\n",
    "df.head()"
   ]
  },
  {
   "cell_type": "code",
   "execution_count": null,
   "metadata": {},
   "outputs": [],
   "source": [
    "# df.count()"
   ]
  },
  {
   "cell_type": "code",
   "execution_count": null,
   "metadata": {},
   "outputs": [],
   "source": [
    "data_type = {\"symbol\": sqlalchemy.types.VARCHAR(length=10), \n",
    "             \"security\": sqlalchemy.types.VARCHAR(),\n",
    "             \"gics_sector\": sqlalchemy.types.VARCHAR(),\n",
    "             \"gics_sub_industry\": sqlalchemy.types.VARCHAR(),\n",
    "             \"headquarters_location\t\": sqlalchemy.types.VARCHAR(),\n",
    "             # \"date_first_added\": sqlalchemy.types.DateTime(),\n",
    "             \"date_first_added\": sqlalchemy.types.VARCHAR(length=50),\n",
    "             \"cik\": sqlalchemy.types.Integer(),\n",
    "             \"founded\": sqlalchemy.types.VARCHAR(length=50)\n",
    "            }"
   ]
  },
  {
   "cell_type": "code",
   "execution_count": null,
   "metadata": {},
   "outputs": [],
   "source": [
    "df.to_sql(name=\"sp500\", con=engine, if_exists='replace', index=False, dtype=data_type)"
   ]
  },
  {
   "cell_type": "code",
   "execution_count": null,
   "metadata": {},
   "outputs": [],
   "source": [
    "import psycopg2\n",
    "conn = psycopg2.connect(database = db_name, user = \"postgres\", password=db_pass, host=db_host, port=db_port)\n",
    "command = (\n",
    "\"\"\"\n",
    "create table if not exists stock_daily (\n",
    "    stock_date  timestamp,\n",
    "    open double precision,\n",
    "    high double precision,\n",
    "    low double precision,\n",
    "    close double precision,\n",
    "    volume bigint,\n",
    "    stock_symbol varchar(10)\n",
    ")\n",
    "\"\"\"\n",
    ")\n",
    "cur = conn.cursor()\n",
    "cur.execute(command)\n",
    "conn.commit()\n",
    "# cur.close()\n",
    "# conn.close()\n"
   ]
  },
  {
   "cell_type": "code",
   "execution_count": 3,
   "metadata": {},
   "outputs": [
    {
     "data": {
      "text/html": [
       "<div>\n",
       "<style scoped>\n",
       "    .dataframe tbody tr th:only-of-type {\n",
       "        vertical-align: middle;\n",
       "    }\n",
       "\n",
       "    .dataframe tbody tr th {\n",
       "        vertical-align: top;\n",
       "    }\n",
       "\n",
       "    .dataframe thead th {\n",
       "        text-align: right;\n",
       "    }\n",
       "</style>\n",
       "<table border=\"1\" class=\"dataframe\">\n",
       "  <thead>\n",
       "    <tr style=\"text-align: right;\">\n",
       "      <th></th>\n",
       "      <th>symbol</th>\n",
       "    </tr>\n",
       "  </thead>\n",
       "  <tbody>\n",
       "    <tr>\n",
       "      <th>0</th>\n",
       "      <td>BKB</td>\n",
       "    </tr>\n",
       "  </tbody>\n",
       "</table>\n",
       "</div>"
      ],
      "text/plain": [
       "  symbol\n",
       "0    BKB"
      ]
     },
     "execution_count": 3,
     "metadata": {},
     "output_type": "execute_result"
    }
   ],
   "source": [
    "pending_symbol = pd.read_sql(\"select distinct symbol from sp500 where not exists (select 1 from stock_daily where stock_symbol = symbol)\", connection)\n",
    "pending_symbol"
   ]
  },
  {
   "cell_type": "code",
   "execution_count": 4,
   "metadata": {},
   "outputs": [
    {
     "name": "stdout",
     "output_type": "stream",
     "text": [
      "0 BKB 1\n",
      "Retrieving Stock data from Alphavantage website for the symbol BKB\n",
      "https://www.alphavantage.co/query?function=TIME_SERIES_DAILY&apikey=S2Q31T0C29CO77S1&symbol=BKB&outputsize=full\n"
     ]
    },
    {
     "name": "stderr",
     "output_type": "stream",
     "text": [
      "Failed to retreive stock data for the symbol:BKB Error : 'Time Series (Daily)'\n"
     ]
    },
    {
     "name": "stdout",
     "output_type": "stream",
     "text": [
      "Request completed, converting to dataframe and trying to push it to the database\n",
      "14.07074499130249\n",
      "45.9292631149292\n",
      " \n",
      "End of processing 1 records in 0.2345 minutes!!! \n",
      "There are 1 records ends with error\n",
      " \n"
     ]
    }
   ],
   "source": [
    "# up to 5 API requests per minute and 500 requests per day\n",
    "err_cnt = 0\n",
    "rec_cnt = 0\n",
    "start_time = time.time()\n",
    "etime = time.time() + 60\n",
    "for index, row in pending_symbol.iterrows():\n",
    "    rec_cnt += 1;\n",
    "    print(index, row['symbol'], rec_cnt)\n",
    "    try:\n",
    "        print(f\"Retrieving Stock data from Alphavantage website for the symbol {row['symbol']}\")\n",
    "        symbol = \"&symbol=\"+row['symbol']\n",
    "        query_url = url+function+key+symbol+output\n",
    "        print(query_url)\n",
    "        response = requests.get(query_url).json()\n",
    "        time.sleep(13)\n",
    "        print(\"Request completed, converting to dataframe and trying to push it to the database\")\n",
    "        result_dict=response[\"Time Series (Daily)\"]\n",
    "        results_df=pd.DataFrame(result_dict)\n",
    "        results_df2 = results_df.transpose()\n",
    "        results_df2[\"company\"] = row['symbol']\n",
    "        results_df2.reset_index(inplace=True)\n",
    "        results_df2.columns=['stock_date', 'open', 'high', 'low', 'close', 'volume','stock_symbol']\n",
    "        stock_type = {\"stock_date\": sqlalchemy.DateTime(), \n",
    "              \"open\": sqlalchemy.types.Float(precision=5, asdecimal=True), \n",
    "              \"high\": sqlalchemy.types.Float(precision=5, asdecimal=True), \n",
    "              \"low\": sqlalchemy.types.Float(precision=5, asdecimal=True),\n",
    "              \"close\": sqlalchemy.types.Float(precision=5, asdecimal=True),\n",
    "              \"volume\": sqlalchemy.types.BigInteger(),\n",
    "              \"stock_symbol\": sqlalchemy.types.VARCHAR(length=10),\n",
    "             }\n",
    "        dcnt = results_df2['open'].count()\n",
    "        if dcnt > 0:\n",
    "#             if index == 0:\n",
    "#                 results_df2.to_sql(name=\"stock_daily\", con=engine, if_exists='replace', index=False, dtype=stock_type)\n",
    "#             else:\n",
    "            results_df2.to_sql(name=\"stock_daily\", con=engine, if_exists='append', index=False, dtype=stock_type)\n",
    "    except Exception as e:\n",
    "        logger.error('Failed to retreive stock data for the symbol:'+ row['symbol'] + ' Error : ' + str(e))\n",
    "        err_cnt += 1;\n",
    "    print(time.time()-start_time)\n",
    "    print(etime-time.time())\n",
    "    sleep_sec = etime-time.time()\n",
    "    if rec_cnt == 5:\n",
    "        rec_cnt = 0\n",
    "        if sleep_sec > 0:\n",
    "            print(f\"API 5 calls/minute limit reached...  sleeping for {sleep_sec} seconds\")\n",
    "            time.sleep(sleep_sec)\n",
    "            etime = time.time() + 60\n",
    "    if index > 498:\n",
    "        print(\"Reached maximum limit of 500 rows, existing the for loop...\")\n",
    "        break\n",
    "\n",
    "print(\" \")\n",
    "print(f\"End of processing {index+1} records in {round((time.time()-start_time)/60,4)} minutes!!! \")\n",
    "print(f\"There are {err_cnt} records ends with error\")\n",
    "print(\" \")\n"
   ]
  },
  {
   "cell_type": "code",
   "execution_count": null,
   "metadata": {},
   "outputs": [],
   "source": [
    "err_cnt"
   ]
  },
  {
   "cell_type": "code",
   "execution_count": null,
   "metadata": {},
   "outputs": [],
   "source": []
  },
  {
   "cell_type": "code",
   "execution_count": null,
   "metadata": {},
   "outputs": [],
   "source": [
    "print(time.time(), time.time()-300)"
   ]
  },
  {
   "cell_type": "code",
   "execution_count": null,
   "metadata": {},
   "outputs": [],
   "source": [
    "time.strftime('%H:%M:%S', time.localtime(time.time()))"
   ]
  },
  {
   "cell_type": "code",
   "execution_count": null,
   "metadata": {},
   "outputs": [],
   "source": []
  },
  {
   "cell_type": "code",
   "execution_count": null,
   "metadata": {},
   "outputs": [],
   "source": []
  },
  {
   "cell_type": "code",
   "execution_count": null,
   "metadata": {},
   "outputs": [],
   "source": []
  }
 ],
 "metadata": {
  "kernelspec": {
   "display_name": "Python [conda env:PythonData] *",
   "language": "python",
   "name": "conda-env-PythonData-py"
  },
  "language_info": {
   "codemirror_mode": {
    "name": "ipython",
    "version": 3
   },
   "file_extension": ".py",
   "mimetype": "text/x-python",
   "name": "python",
   "nbconvert_exporter": "python",
   "pygments_lexer": "ipython3",
   "version": "3.6.10"
  }
 },
 "nbformat": 4,
 "nbformat_minor": 4
}
